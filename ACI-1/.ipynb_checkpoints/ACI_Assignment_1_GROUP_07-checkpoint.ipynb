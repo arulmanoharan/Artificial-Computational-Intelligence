{
 "cells": [
  {
   "cell_type": "markdown",
   "metadata": {
    "id": "MzZ4dJQYF7sH"
   },
   "source": [
    "# Artificial and Computational Intelligence Assignment 1"
   ]
  },
  {
   "cell_type": "markdown",
   "metadata": {
    "id": "Fxb1aE9zF7sK"
   },
   "source": [
    "## Problem solving by Uninformed & Informed Search"
   ]
  },
  {
   "cell_type": "markdown",
   "metadata": {
    "id": "pt5ygv_zF7sL"
   },
   "source": [
    "Things to follow\n",
    "1.\tUse appropriate data structures to represent the graph and the path using python libraries\n",
    "2.\tProvide proper documentation\n",
    "3.\tFind the path and print it"
   ]
  },
  {
   "cell_type": "markdown",
   "metadata": {
    "id": "wZfop5ElF7sL"
   },
   "source": [
    "Coding begins here"
   ]
  },
  {
   "cell_type": "markdown",
   "metadata": {
    "id": "IL0QDMy3F7sL"
   },
   "source": [
    "### 1.\tDefine the environment in the following block"
   ]
  },
  {
   "cell_type": "markdown",
   "metadata": {
    "id": "RYwJPNLIF7sM"
   },
   "source": [
    "List the PEAS decription of the problem here in this markdown block"
   ]
  },
  {
   "cell_type": "markdown",
   "metadata": {
    "id": "XJ3cHp1IF7sM"
   },
   "source": [
    "Design the agent as PSA Agent(Problem Solving Agent)\n",
    "Clear Initial data structures to define the graph and variable declarations is expected\n",
    "IMPORTATANT: Write distinct code block as below"
   ]
  },
  {
   "cell_type": "code",
   "execution_count": 11,
   "metadata": {
    "id": "osp61RsLF7sN"
   },
   "outputs": [],
   "source": [
    "#Code Block : Set Initial State (Must handle dynamic inputs)\n",
    "def get_initial_state(graph):\n",
    "    nodes = list(graph.keys())\n",
    "    print(\"Available nodes:\")\n",
    "    for node in nodes:\n",
    "        print(node)\n",
    "    \n",
    "    while True:\n",
    "        start_node = input(\"Enter the start node from the above list: \").strip()\n",
    "        if start_node in nodes:\n",
    "            return start_node\n",
    "        else:\n",
    "            print(\"Invalid node. Please select a node from the list.\")"
   ]
  },
  {
   "cell_type": "code",
   "execution_count": 2,
   "metadata": {
    "id": "XODwoWZ0F7sO"
   },
   "outputs": [],
   "source": [
    "#Code Block : Set the matrix for transition & cost (as relevant for the given problem)\n",
    "graph = {\n",
    "    'Kiev': {'Kharkiv': 10, 'Odessa': 5, 'Mlkolaive': 15, 'Lviv': 17},\n",
    "    'Kharkiv': {'Kiev': 10, 'Odessa': 7},\n",
    "    'Odessa': {'Kharkiv': 7, 'Dnipro': 25, 'Kiev': 5},\n",
    "    'Mlkolaive': {'Kiev': 15, 'Lviv': 12},\n",
    "    'Lviv': {'Dnipro': 4, 'Mariupol': 2, 'Kherson': 10, 'Mlkolaive': 12, 'Kiev': 17},\n",
    "    'Dnipro': {'Kherson': 11, 'Lviv': 4, 'Odessa': 25},\n",
    "    'Mariupol': {'Lviv': 2},\n",
    "    'Kherson': {'Lviv': 10, 'Dnipro': 11}\n",
    "}"
   ]
  },
  {
   "cell_type": "code",
   "execution_count": null,
   "metadata": {
    "id": "ro24Gaj7F7sO"
   },
   "outputs": [],
   "source": [
    "#Code Block : Write function to design the Transition Model/Successor function. Ideally this would be called while search algorithms are implemented"
   ]
  },
  {
   "cell_type": "code",
   "execution_count": null,
   "metadata": {
    "id": "HIVPhrRWF7sO"
   },
   "outputs": [],
   "source": [
    "#Code block : Write fucntion to handle goal test (Must handle dynamic inputs). Ideally this would be called while search algorithms are implemented"
   ]
  },
  {
   "cell_type": "markdown",
   "metadata": {
    "id": "Z4QwDeX5F7sO"
   },
   "source": [
    "### 2.\tDefinition of Algorithm 1 (Mention the Name of the algorithm here)"
   ]
  },
  {
   "cell_type": "code",
   "execution_count": 3,
   "metadata": {
    "id": "zD_EPCHWF7sO"
   },
   "outputs": [],
   "source": [
    "#Code Block : Function for algorithm 1 implementation\n",
    "from collections import deque\n",
    "BOLD_ITALIC = \"\\033[1m\\033[3m\"\n",
    "RESET = \"\\033[0m\"\n",
    "\n",
    "def bfs_tsp(graph, start_node):\n",
    "    queue = deque([(start_node, [start_node], 0)])  # (current_node, path, current_cost)\n",
    "    min_path = None\n",
    "    min_cost = float('inf')\n",
    "    \n",
    "    single_neighbor_node = []\n",
    "    all_paths = set()\n",
    "\n",
    "    # Identify nodes with a single neighbor and store it\n",
    "    for node, neighbors in graph.items():\n",
    "        if len(neighbors) == 1:\n",
    "            single_neighbor_node.append(list(neighbors.keys())[0])\n",
    "            break\n",
    "            \n",
    "    # BFS Loop\n",
    "    while queue:\n",
    "        current_node, path, current_cost = queue.popleft()\n",
    "\n",
    "        # If all nodes are visited and we're back to the start node\n",
    "        if len(set(path)) == len(graph) and current_node == start_node:\n",
    "            all_paths.add((tuple(path), current_cost))\n",
    "            if current_cost < min_cost:\n",
    "                min_cost = current_cost\n",
    "                min_path = path\n",
    "            continue\n",
    "\n",
    "        neighbors = list(graph[current_node].keys())\n",
    "        for neighbor in neighbors:\n",
    "            # Allow visiting the start node at the end, or revisit the neighbor if it's the only choice left\n",
    "            if neighbor not in path or (len(set(path)) == len(graph) and neighbor == start_node) or len(neighbors) == 1 or neighbor in single_neighbor_node:\n",
    "                next_cost = current_cost + graph[current_node][neighbor]\n",
    "                queue.append((neighbor, path + [neighbor], next_cost))\n",
    "    \n",
    "    # Print all unique paths and their costs after the loop\n",
    "#     print(\"All available paths and their costs:\")\n",
    "#     for path, cost in all_paths:\n",
    "#         print(f\"Path: {path}, Cost: {cost}\")\n",
    "\n",
    "    return min_path, min_cost\n",
    "\n",
    "\n"
   ]
  },
  {
   "cell_type": "markdown",
   "metadata": {
    "id": "KnbdDl6HF7sO"
   },
   "source": [
    "### 3.\tDefinition of Algorithm 2 (Mention the Name of the algorithm here)"
   ]
  },
  {
   "cell_type": "code",
   "execution_count": 4,
   "metadata": {
    "id": "3HYh7-eJF7sP"
   },
   "outputs": [],
   "source": [
    "#Code Block : Function for algorithm 2 implementation\n",
    "import heapq\n",
    "BOLD_ITALIC = \"\\033[1m\\033[3m\"\n",
    "RESET = \"\\033[0m\"\n",
    "\n",
    "def ucs_tsp(graph, start_node):\n",
    "    pq = []\n",
    "    heapq.heappush(pq, (0, start_node, [start_node]))  # (current_cost, current_node, path)\n",
    "    min_path = None\n",
    "    min_cost = float('inf')\n",
    "    single_neighbor_node = []\n",
    "    all_paths = set()\n",
    "\n",
    "    # Identify nodes with a single neighbor and store it\n",
    "    for node, neighbors in graph.items():\n",
    "        if len(neighbors) == 1:\n",
    "            single_neighbor_node.append(list(neighbors.keys())[0])\n",
    "            break\n",
    "\n",
    "    while pq:\n",
    "        current_cost, current_node, path = heapq.heappop(pq)\n",
    "        #print(path,current_cost)\n",
    "\n",
    "        # If all nodes are visited and we're back to the start node\n",
    "        if len(set(path)) == len(graph) and current_node == start_node:\n",
    "            all_paths.add((tuple(path), current_cost))\n",
    "            if current_cost < min_cost:\n",
    "                min_cost = current_cost\n",
    "                min_path = path\n",
    "            continue\n",
    "\n",
    "        neighbors = list(graph[current_node].keys())\n",
    "        for neighbor in neighbors:\n",
    "            # Allow visiting the start node at the end, or revisit the neighbor if it's the only choice left\n",
    "            if neighbor not in path or (len(set(path)) == len(graph) and neighbor == start_node) or len(neighbors) == 1 or neighbor in single_neighbor_node:\n",
    "                next_cost = current_cost + graph[current_node][neighbor]\n",
    "                heapq.heappush(pq, (next_cost, neighbor, path + [neighbor]))\n",
    "    \n",
    "#     # Print all unique paths and their costs after the loop\n",
    "#     print(\"All available paths and their costs:\")\n",
    "#     for path, cost in all_paths:\n",
    "#         print(f\"Path: {list(path)}, Cost: {cost}\")\n",
    "\n",
    "    return min_path, min_cost\n",
    "\n",
    "\n",
    "\n"
   ]
  },
  {
   "cell_type": "markdown",
   "metadata": {
    "id": "LEV2XHccF7sP"
   },
   "source": [
    "### DYNAMIC INPUT"
   ]
  },
  {
   "cell_type": "markdown",
   "metadata": {
    "id": "CylYRo_DF7sP"
   },
   "source": [
    "IMPORTANT : Dynamic Input must be got in this section. Display the possible states to choose from:\n",
    "This is applicable for all the relevent problems as mentioned in the question."
   ]
  },
  {
   "cell_type": "code",
   "execution_count": 18,
   "metadata": {
    "id": "Q5t1Lc-wF7sP"
   },
   "outputs": [
    {
     "name": "stdout",
     "output_type": "stream",
     "text": [
      "Available nodes:\n",
      "Kiev\n",
      "Kharkiv\n",
      "Odessa\n",
      "Mlkolaive\n",
      "Lviv\n",
      "Dnipro\n",
      "Mariupol\n",
      "Kherson\n",
      "Enter the start node from the above list: Kherson\n"
     ]
    }
   ],
   "source": [
    "#Function & call to get inputs (start node)\n",
    "start_node = get_initial_state(graph)"
   ]
  },
  {
   "cell_type": "markdown",
   "metadata": {
    "id": "xsfOP81lF7sP"
   },
   "source": [
    "### 4.\tCalling the search algorithms\n",
    "(For bidirectional search in below sections first part can be used as per Hint provided. Under second section other combinations as per Hint or your choice of 2 algorithms can be called .As an analyst suggest suitable approximation in the comparitive analysis section)"
   ]
  },
  {
   "cell_type": "code",
   "execution_count": 16,
   "metadata": {
    "id": "Og5zI9thF7sP"
   },
   "outputs": [
    {
     "name": "stdout",
     "output_type": "stream",
     "text": [
      "\n",
      "\u001b[1m\u001b[3mMinimum path: ['Kherson', 'Lviv', 'Mariupol', 'Lviv', 'Mlkolaive', 'Kiev', 'Kharkiv', 'Odessa', 'Dnipro', 'Kherson']\u001b[0m\n",
      "\n",
      "\u001b[1m\u001b[3mMinimum cost: 94\u001b[0m\n"
     ]
    }
   ],
   "source": [
    "#Invoke algorithm 1 (Should Print the solution, path, cost etc., (As mentioned in the problem))\n",
    "min_path, min_cost = bfs_tsp(graph, start_node)\n",
    "print(f\"\\n{BOLD_ITALIC}Minimum path: {min_path}{RESET}\")\n",
    "print(f\"\\n{BOLD_ITALIC}Minimum cost: {min_cost}{RESET}\")"
   ]
  },
  {
   "cell_type": "code",
   "execution_count": 17,
   "metadata": {
    "id": "u3MJeA6eF7sP"
   },
   "outputs": [
    {
     "name": "stdout",
     "output_type": "stream",
     "text": [
      "\n",
      "\u001b[1m\u001b[3mMinimum path: ['Kherson', 'Dnipro', 'Odessa', 'Kharkiv', 'Kiev', 'Mlkolaive', 'Lviv', 'Mariupol', 'Lviv', 'Kherson']\u001b[0m\n",
      "\n",
      "\u001b[1m\u001b[3mMinimum cost: 94\u001b[0m\n"
     ]
    }
   ],
   "source": [
    "#Invoke algorithm 2 (Should Print the solution, path, cost etc., (As mentioned in the problem))\n",
    "min_path, min_cost = ucs_tsp(graph, start_node)\n",
    "print(f\"\\n{BOLD_ITALIC}Minimum path: {min_path}{RESET}\")\n",
    "print(f\"\\n{BOLD_ITALIC}Minimum cost: {min_cost}{RESET}\")"
   ]
  },
  {
   "cell_type": "markdown",
   "metadata": {
    "id": "TOU3Rem6F7sQ"
   },
   "source": [
    "### 5.\tComparitive Analysis"
   ]
  },
  {
   "cell_type": "code",
   "execution_count": 30,
   "metadata": {
    "id": "HG6fWwiIF7sQ"
   },
   "outputs": [
    {
     "name": "stdout",
     "output_type": "stream",
     "text": [
      "\u001b[1m\u001b[3mTime Complexity:\u001b[0m\n",
      "O(V! * E) where V = 8 (number of vertices), E = 22 (number of edges)\n",
      "\u001b[1m\u001b[3mSpace Complexity:\u001b[0m\n",
      "O(V * V!) where V = 8 (number of vertices)\n"
     ]
    }
   ],
   "source": [
    "#Code Block : Print the Time & Space complexity of algorithm 1\n",
    "def analyze_complexity_bfs(graph):\n",
    "    V = len(graph)\n",
    "    E = sum(len(neighbors) for neighbors in graph.values())\n",
    "    \n",
    "    print(f\"{BOLD_ITALIC}Time Complexity:{RESET}\")\n",
    "    print(f\"O(V! * E) where V = {V} (number of vertices), E = {E} (number of edges)\")\n",
    "    \n",
    "    print(f\"{BOLD_ITALIC}Space Complexity:{RESET}\")\n",
    "    print(f\"O(V * V!) where V = {V} (number of vertices)\")\n",
    "\n",
    "analyze_complexity_bfs(graph)"
   ]
  },
  {
   "cell_type": "code",
   "execution_count": 31,
   "metadata": {
    "id": "xMButLKCF7sQ"
   },
   "outputs": [
    {
     "name": "stdout",
     "output_type": "stream",
     "text": [
      "\u001b[1m\u001b[3mTime Complexity:\u001b[0m\n",
      "O(V! * E * log(V!)) where V = 8 (number of vertices), E = 22 (number of edges)\n",
      "\u001b[1m\u001b[3mSpace Complexity:\u001b[0m\n",
      "O(V * V!) where V = 8 (number of vertices)\n"
     ]
    }
   ],
   "source": [
    "#Code Block : Print the Time & Space complexity of algorithm 2\n",
    "def analyze_complexity_ucs(graph):\n",
    "    V = len(graph)\n",
    "    E = sum(len(neighbors) for neighbors in graph.values())\n",
    "    \n",
    "    print(f\"{BOLD_ITALIC}Time Complexity:{RESET}\")\n",
    "    print(f\"O(V! * E * log(V!)) where V = {V} (number of vertices), E = {E} (number of edges)\")\n",
    "    \n",
    "    print(f\"{BOLD_ITALIC}Space Complexity:{RESET}\")\n",
    "    print(f\"O(V * V!) where V = {V} (number of vertices)\")\n",
    "\n",
    "analyze_complexity_ucs(graph)"
   ]
  },
  {
   "cell_type": "markdown",
   "metadata": {
    "id": "y2nXwAlsF7sQ"
   },
   "source": [
    "### 6.\tProvide your comparitive analysis or findings in no more than 3 lines in below section"
   ]
  },
  {
   "cell_type": "markdown",
   "metadata": {
    "id": "si483-zoF7sQ"
   },
   "source": [
    "Comparison :\n",
    "BFS has a slightly simpler time complexity but may be less efficient in practice because it explores paths without considering their costs.\n",
    "UCS has a slightly higher time complexity but can be more efficient in practice due to its prioritization of lower-cost paths.\n",
    "\n",
    "Both algorithms have the same space complexity, which can be a significant concern in large graphs due to the factorial growth of possible paths\n",
    "\n",
    "Overall UCS is better in terms of considering lower cost paths, but BFS is better in case of time complexity."
   ]
  }
 ],
 "metadata": {
  "colab": {
   "provenance": []
  },
  "kernelspec": {
   "display_name": "Python 3 (ipykernel)",
   "language": "python",
   "name": "python3"
  },
  "language_info": {
   "codemirror_mode": {
    "name": "ipython",
    "version": 3
   },
   "file_extension": ".py",
   "mimetype": "text/x-python",
   "name": "python",
   "nbconvert_exporter": "python",
   "pygments_lexer": "ipython3",
   "version": "3.10.0"
  }
 },
 "nbformat": 4,
 "nbformat_minor": 4
}
